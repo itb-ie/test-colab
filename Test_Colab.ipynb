{
  "nbformat": 4,
  "nbformat_minor": 0,
  "metadata": {
    "colab": {
      "name": "Test-Colab.ipynb",
      "provenance": [],
      "collapsed_sections": [],
      "authorship_tag": "ABX9TyM2Ybyej4Vm9GNFIDCf8nhY",
      "include_colab_link": true
    },
    "kernelspec": {
      "name": "python3",
      "display_name": "Python 3"
    }
  },
  "cells": [
    {
      "cell_type": "markdown",
      "metadata": {
        "id": "view-in-github",
        "colab_type": "text"
      },
      "source": [
        "<a href=\"https://colab.research.google.com/github/itb-ie/test-colab/blob/master/Test_Colab.ipynb\" target=\"_parent\"><img src=\"https://colab.research.google.com/assets/colab-badge.svg\" alt=\"Open In Colab\"/></a>"
      ]
    },
    {
      "cell_type": "markdown",
      "metadata": {
        "id": "_7u-IESNjkPy",
        "colab_type": "text"
      },
      "source": [
        "#Hi there,\n",
        "\n",
        "This is a new way of writing text and code <br>\n",
        "I can have *italic*, **bold** or ***both***\n",
        "\n",
        "This is how you write a list:\n",
        "- Apples\n",
        "- Oranges\n",
        "- --Pears--\n",
        "\n",
        "\n",
        "```\n",
        "# This is formatted as code\n",
        "import bogdan\n",
        "print(\"Hello\")\n",
        "\n",
        "```\n",
        "\n",
        "\n",
        "\n"
      ]
    },
    {
      "cell_type": "code",
      "metadata": {
        "id": "ek7YOx4Kjfz4",
        "colab_type": "code",
        "outputId": "6a8284e8-98f3-4f02-a68c-8c1ac79ae676",
        "colab": {
          "base_uri": "https://localhost:8080/",
          "height": 34
        }
      },
      "source": [
        "a = 5\n",
        "b = 6\n",
        "print(a+b)\n"
      ],
      "execution_count": 0,
      "outputs": [
        {
          "output_type": "stream",
          "text": [
            "11\n"
          ],
          "name": "stdout"
        }
      ]
    },
    {
      "cell_type": "markdown",
      "metadata": {
        "id": "Y8Z2axMKUruM",
        "colab_type": "text"
      },
      "source": [
        "# This is a readme. \n",
        "## Use a readme for all your projects so people <br /> can understand what you wanted to do.  \n",
        "  \n",
        "You can use different styles like: **bold**, *italic,*   \n",
        "You can also add [links](http://google.com)\n",
        "  \n",
        "You can add some code:  \n",
        "` print(\"Hello World)`  \n",
        "\n",
        "You can write a list:\n",
        "- Bread\n",
        "- Milk\n",
        "- ~~Oreos~~ \n",
        "\n",
        "You can also add some tasks:\n",
        "- [x] Write a readme\n",
        "- [ ] Finish the python course\n",
        "- [ ] Profit\n",
        "\n",
        "[More on how to write readmes](https://github.com/adam-p/markdown-here/wiki/Markdown-Cheatsheet)  \n",
        "\n",
        " \n"
      ]
    },
    {
      "cell_type": "code",
      "metadata": {
        "id": "B0vcSAAqUvqM",
        "colab_type": "code",
        "colab": {}
      },
      "source": [
        "# Add more code here\n",
        "#@title #**Please choose the parameters:**\n",
        "#@markdown Please enter the number of interfaces\n",
        "If = 8 #@param {type:\"slider\", min:1, max:100, step:1}\n",
        "#@markdown Initial data interface address\n",
        "IP = \"10.0.0.1\" #@param {type:\"string\"}\n",
        "#@markdown Masklen of the data interfaces\n",
        "Mask = 24 #@param {type:\"slider\", min:8, max:32, step:1}\n",
        "\n",
        "#@markdown Management interface address\n",
        "IP_mgmt = \"10.241.7.197\" #@param {type:\"string\"}\n",
        "#@markdown Masklen of the management interface\n",
        "Mask_mgmt = 25 #@param {type:\"slider\", min:8, max:32, step:1}\n",
        "#@markdown Management gateway address\n",
        "Gateway_mgmt = \"10.241.7.254\" #@param {type:\"string\"}\n",
        "\n",
        "\n",
        "#@markdown Add BGP configuration?\n",
        "BGP_enabled = \"Yes\" #@param [\"Yes\", \"No\"]\n",
        "#@markdown  <br >**Ignore next fields if BGP not enabled:** <br><br>\n",
        "#@markdown Local AS\n",
        "BGP_local_as = 65100 #@param {type:\"integer\"}\n",
        "#@markdown First BGP peer address \n",
        "BGP_peer = \"10.0.0.2\" #@param {type:\"string\"}\n",
        "#@markdown Remote AS\n",
        "BGP_remote_as = 65200 #@param {type:\"integer\"}\n",
        "#@markdown BGP holdtime \n",
        "BGP_holdtime = 10 #@param {type:\"integer\"}\n",
        "#@markdown BGP keepalive \n",
        "BGP_keepalive = 3 #@param {type:\"integer\"}\n",
        "#@markdown Generate a mirror configuration for another device to peer to?\n",
        "Mirror_enabled = \"Yes\" #@param [\"Yes\", \"No\"]\n"
      ],
      "execution_count": 0,
      "outputs": []
    }
  ]
}