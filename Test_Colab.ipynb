{
  "nbformat": 4,
  "nbformat_minor": 0,
  "metadata": {
    "colab": {
      "name": "Test-Colab.ipynb",
      "provenance": [],
      "authorship_tag": "ABX9TyPxOji4AsNSEb5Q6m1hrg8G",
      "include_colab_link": true
    },
    "kernelspec": {
      "name": "python3",
      "display_name": "Python 3"
    }
  },
  "cells": [
    {
      "cell_type": "markdown",
      "metadata": {
        "id": "view-in-github",
        "colab_type": "text"
      },
      "source": [
        "<a href=\"https://colab.research.google.com/github/itb-ie/test-colab/blob/master/Test_Colab.ipynb\" target=\"_parent\"><img src=\"https://colab.research.google.com/assets/colab-badge.svg\" alt=\"Open In Colab\"/></a>"
      ]
    },
    {
      "cell_type": "markdown",
      "metadata": {
        "id": "_7u-IESNjkPy",
        "colab_type": "text"
      },
      "source": [
        "#Hi there,\n",
        "\n",
        "This is a new way of writing text and code <br>\n",
        "I can have *italic*, **bold** or ***both***\n",
        "\n",
        "This is how you write a list:\n",
        "- Apples\n",
        "- Oranges\n",
        "- --Pears--\n",
        "\n",
        "\n",
        "```\n",
        "# This is formatted as code\n",
        "import bogdan\n",
        "print(\"Hello\")\n",
        "\n",
        "```\n",
        "\n",
        "\n",
        "\n"
      ]
    },
    {
      "cell_type": "code",
      "metadata": {
        "id": "ek7YOx4Kjfz4",
        "colab_type": "code",
        "outputId": "6a8284e8-98f3-4f02-a68c-8c1ac79ae676",
        "colab": {
          "base_uri": "https://localhost:8080/",
          "height": 34
        }
      },
      "source": [
        "a = 5\n",
        "b = 6\n",
        "print(a+b)\n"
      ],
      "execution_count": 0,
      "outputs": [
        {
          "output_type": "stream",
          "text": [
            "11\n"
          ],
          "name": "stdout"
        }
      ]
    }
  ]
}